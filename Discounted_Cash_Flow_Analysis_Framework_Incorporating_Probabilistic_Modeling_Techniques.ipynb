{
  "nbformat": 4,
  "nbformat_minor": 0,
  "metadata": {
    "colab": {
      "name": "Discounted Cash Flow Analysis Framework Incorporating Probabilistic Modeling Techniques.ipynb",
      "version": "0.3.2",
      "provenance": [],
      "include_colab_link": true
    },
    "kernelspec": {
      "name": "python3",
      "display_name": "Python 3"
    }
  },
  "cells": [
    {
      "cell_type": "markdown",
      "metadata": {
        "id": "view-in-github",
        "colab_type": "text"
      },
      "source": [
        "<a href=\"https://colab.research.google.com/github/mark-t-conrad/Accessible_Deep_Learning/blob/master/Discounted_Cash_Flow_Analysis_Framework_Incorporating_Probabilistic_Modeling_Techniques.ipynb\" target=\"_parent\"><img src=\"https://colab.research.google.com/assets/colab-badge.svg\" alt=\"Open In Colab\"/></a>"
      ]
    },
    {
      "metadata": {
        "id": "EFrKQP9enNmw",
        "colab_type": "code",
        "colab": {}
      },
      "cell_type": "code",
      "source": [
        ""
      ],
      "execution_count": 0,
      "outputs": []
    },
    {
      "metadata": {
        "id": "agIgrrDcnWWd",
        "colab_type": "text"
      },
      "cell_type": "markdown",
      "source": [
        "## How do we do Discounted Cash Flow (DCF) Analysis\n",
        "\n",
        "* The discounted cash flow method is used by professional investors and analysts at investment banks to determine how much to pay for a business, whether it is shares of stock or the whole company. \n",
        "\n",
        "* It's also used by financial analysts and project managers in major companies to determine whether a given project will be a good investment. \n",
        "\n",
        "* At it's most fundamental level, it's applicable to any scenario where you are considering paying money now in expectation of receiving more money in the future.\n",
        "\n",
        "* This model rests on the principle that an investment now is worth an amount equal to the sum of all future cash flows like a Markov Decision Process"
      ]
    }
  ]
}