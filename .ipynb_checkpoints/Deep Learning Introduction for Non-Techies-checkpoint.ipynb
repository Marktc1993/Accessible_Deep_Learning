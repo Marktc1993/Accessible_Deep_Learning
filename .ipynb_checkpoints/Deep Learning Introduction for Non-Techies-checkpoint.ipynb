{
 "cells": [
  {
   "cell_type": "markdown",
   "metadata": {},
   "source": [
    "## Here we will explore the basics of Neural Network architecture to the widest audience possible. Machine learning concepts tend to use complex jargon to describe concepts that can be defined in simpler terms -which I will try to do in this exercise. "
   ]
  },
  {
   "cell_type": "markdown",
   "metadata": {},
   "source": [
    "We will look at the Pima Indians Diabetes dataset for  (https://archive.ics.uci.edu/ml/datasets/pima+indians+diabetes). First, we want to get the data into our local machine. To do this I like to use NumPy, which creates a format similar to Excel spreadsheets with rows and columns, however it is not constrained by the memory limits of Excel.\n",
    "\n",
    "First we want to install Anaconda and python 3.6 specifically: https://www.anaconda.com/download/\n",
    "\n",
    "Next, we want to install packages which our work depends on.\n",
    "On the terminal we want to get these packages by typing: conda install -c conda-forge tensorflow keras\n",
    "\n",
    "To download the file from the UC Irvine server we go to our terminal in our working file directory and use the command: wget \"https://archive.ics.uci.edu/ml/machine-learning-databases/pima-indians-diabetes/pima-indians-diabetes.data\" \n",
    "\n"
   ]
  },
  {
   "cell_type": "code",
   "execution_count": 266,
   "metadata": {},
   "outputs": [],
   "source": [
    "# We want to import the scientific packages...\n",
    "import numpy as np # here is the standard abbreviation for numpy\n",
    "import keras\n",
    "import tensorflow\n"
   ]
  },
  {
   "cell_type": "code",
   "execution_count": 267,
   "metadata": {},
   "outputs": [],
   "source": [
    "# It is common practice to set a seed, which means that any random assignment can be recreated by others. \n",
    "# np.random.seed(1)\n",
    "# We are using the function in numpy called loadtxt to read the file into a Excel-like format that Python can use\n",
    "file = np.loadtxt(\"pima-indians-diabetes.data\", delimiter = ',') \n"
   ]
  },
  {
   "cell_type": "code",
   "execution_count": 268,
   "metadata": {},
   "outputs": [
    {
     "name": "stdout",
     "output_type": "stream",
     "text": [
      "(768, 9)\n"
     ]
    }
   ],
   "source": [
    "print(file.shape) # (pandas or numpy file).shape let's us see the dimensions (rows x columns) # Very similar to R, the head command let's us get a feel for the data by displaying up to the first 10\n",
    "# records.\n"
   ]
  },
  {
   "cell_type": "markdown",
   "metadata": {},
   "source": [
    "We want to split the data between our eight inputs (Xs) and output (Y), we can see that column 8 has two possible outputs (classes) either one or zero. When looking over the documentation (https://archive.ics.uci.edu/ml/datasets/pima+indians+diabetes) we see that this is the output that we are trying to predict. Normally we would want to explore the data and discuss hypotheses as to what relationships we want to explore between the inputs and outputs, but let's make a neural network instead! "
   ]
  },
  {
   "cell_type": "code",
   "execution_count": 269,
   "metadata": {},
   "outputs": [],
   "source": [
    "# Let's now split the data:\n",
    "# Let's break down this operation...\n",
    "# first for X we want to think of the \"[]\" as looking up the selected values we specify.\n",
    "# file[row(s), column(s)], and \":\" specifies that we want all records of the specified dimension.\n",
    "# We want the records, but for X we want to exclude the last column which serves as our output that we are trying to predict. \n",
    "# thus we use the designation [:8], for all columns up to but excluding 8. \n",
    "X = file[:, 0:8]\n",
    "Y = file[:, 8]"
   ]
  },
  {
   "cell_type": "code",
   "execution_count": 270,
   "metadata": {},
   "outputs": [
    {
     "data": {
      "text/plain": [
       "(768, 8)"
      ]
     },
     "execution_count": 270,
     "metadata": {},
     "output_type": "execute_result"
    }
   ],
   "source": [
    "X.shape # here we see the last 10 records for X matrix"
   ]
  },
  {
   "cell_type": "code",
   "execution_count": 271,
   "metadata": {},
   "outputs": [
    {
     "data": {
      "text/plain": [
       "(768,)"
      ]
     },
     "execution_count": 271,
     "metadata": {},
     "output_type": "execute_result"
    }
   ],
   "source": [
    "Y.shape # here we see the first ten records for Y vector"
   ]
  },
  {
   "cell_type": "markdown",
   "metadata": {},
   "source": [
    "Great! Now we want to the general architecture of our network... Feel free to refer to this documentation religiously (https://keras.io/getting-started/sequential-model-guide/). Let's define what a neural network is, broadly speaking a neural network is going to be comprised of an input layer and then subsequent layers that perform transformations on the data before the output layer, which in this case is predicting the onset of Diabetes given certain conditions. In simple terms we can think of each layer as a logistic regression equation as I have written in psuedo code: z = dot_product((weights transpose)o(inputs)) + bias \n",
    "\n",
    "This should look familiar to any practitioners of linear regression, if not here are some helpful refreshers https://www.khanacademy.org/math/precalculus/precalc-matrices/multiplying-matrices-by-matrices/v/multiplying-a-matrix-by-a-matrix, http://www.stat.cmu.edu/~cshalizi/uADA/12/lectures/ch12.pdf  \n",
    "With this equation we then calculate the activation function sigmoid = 1/(1+e^(-z)) if z is large we get a number very close to 1, and if z is very small (negative) we a number very close to zero, thus a binary classifier (0 or 1). Concretely, I like to define neural networks as stacks of logistic regression layers. This isn't technically correct, but is a good starting point before exploring the other components.\n",
    "Some more housekeeping, I have spoken to several practicing Data Scientists and the common practice is to use Keras as the front-end and let your backend be Tensorflow (tensorflow has been found to be much faster than it's competitor Theano in most applications). Keras has a lot of utility because it automates many of the lower level tasks of Tensorflow.\n",
    "\n",
    "We want to have our cost function be minimized, furthermore, in the case of Logistic regression we want to minimize our cross entropy cost function which penalizes incorrect classifications. We can think of this process in terms of taking steps towards the bottom of a hill, each epoch (iteration through the entire data set) will show us the loss which can be seen as an index value of the cost function and we want to see the loss decrease. "
   ]
  },
  {
   "cell_type": "markdown",
   "metadata": {},
   "source": [
    "Now let's get to Keras! We define Sequential as the stack of layers."
   ]
  },
  {
   "cell_type": "code",
   "execution_count": 272,
   "metadata": {},
   "outputs": [],
   "source": [
    "from keras.models import Sequential\n",
    "from keras.layers import Dense, Activation, Dropout\n",
    "\n",
    "network = Sequential()# Here is our starting point."
   ]
  },
  {
   "cell_type": "markdown",
   "metadata": {},
   "source": [
    "Now let's add a layer to the network... Dense is composed of units, an activation function. The activation function can be the same that we defined for the logistic regression and the number of units defines the number of nodes in the layer. There are also a bevy of other useful parameters (https://keras.io/layers/core/). Moreover, we should note that it performs the operation: output = activation(dotproduct(input)o(weight) + bias)\n",
    "which should look familiar! Let's now make our layers in the network. \n"
   ]
  },
  {
   "cell_type": "code",
   "execution_count": 273,
   "metadata": {},
   "outputs": [],
   "source": [
    "network.add(Dense(12, input_dim = 8, activation = 'relu' )) # ReLU tends to reach a minimum faster than sigmoid activation"
   ]
  },
  {
   "cell_type": "code",
   "execution_count": 274,
   "metadata": {
    "collapsed": true
   },
   "outputs": [],
   "source": [
    "network.add(Dense(8, activation = 'relu')) # I picked rather arbitrary values, feel free to ticker!\n"
   ]
  },
  {
   "cell_type": "markdown",
   "metadata": {},
   "source": [
    "A technical definition for these two layers would be two hidden layers, these are defined as the layers between the input and the output layer. So, that means the fun has to end and we are going to define our output layer. For binary classification (0 or 1) the best practices state to use the sigmoid function in the output layer. In this case we are using the transformation of the data in the two hidden layers to see what the classifier called a Multi-Layer perceptron predicts for the output. "
   ]
  },
  {
   "cell_type": "code",
   "execution_count": 275,
   "metadata": {
    "collapsed": true
   },
   "outputs": [],
   "source": [
    "network.add(Dense(1, activation='sigmoid'))"
   ]
  },
  {
   "cell_type": "markdown",
   "metadata": {},
   "source": [
    "Now we want to design the learning process, which means we call the compile method, we specify optimizers like how we try to take steps towards minimizing our cost function as much as possible, in our case it will be binary_crossentropy. "
   ]
  },
  {
   "cell_type": "code",
   "execution_count": 276,
   "metadata": {},
   "outputs": [],
   "source": [
    "network.compile( loss='binary_crossentropy',optimizer='adam', metrics=['accuracy', 'binary_accuracy'])"
   ]
  },
  {
   "cell_type": "markdown",
   "metadata": {},
   "source": [
    "After compiling the network we can now run it! We specify our inputs and the outputs, then the number of full loops we want to run through the data. One thing to note is that running such a classifier through the same data over and over again means that it will not generalize to new data. Luckily, there are ways to rectify that, however those tools are beyond the scope of this tutorial. For now let's run this model and see what happens to our loss and accuracy during the iterations."
   ]
  },
  {
   "cell_type": "code",
   "execution_count": 265,
   "metadata": {},
   "outputs": [
    {
     "name": "stdout",
     "output_type": "stream",
     "text": [
      "Epoch 1/100\n",
      "768/768 [==============================] - 1s - loss: 5.0468 - acc: 0.6445 - binary_accuracy: 0.6445     \n",
      "Epoch 2/100\n",
      "768/768 [==============================] - 0s - loss: 3.7211 - acc: 0.6055 - binary_accuracy: 0.6055     \n",
      "Epoch 3/100\n",
      "768/768 [==============================] - 0s - loss: 2.8896 - acc: 0.5990 - binary_accuracy: 0.5990     \n",
      "Epoch 4/100\n",
      "768/768 [==============================] - 0s - loss: 1.5982 - acc: 0.5703 - binary_accuracy: 0.5703     \n",
      "Epoch 5/100\n",
      "768/768 [==============================] - 0s - loss: 1.1657 - acc: 0.6107 - binary_accuracy: 0.6107     \n",
      "Epoch 6/100\n",
      "768/768 [==============================] - 0s - loss: 1.0347 - acc: 0.6198 - binary_accuracy: 0.6198     \n",
      "Epoch 7/100\n",
      "768/768 [==============================] - 0s - loss: 0.9363 - acc: 0.6237 - binary_accuracy: 0.6237     \n",
      "Epoch 8/100\n",
      "768/768 [==============================] - 0s - loss: 0.9087 - acc: 0.6094 - binary_accuracy: 0.6094     \n",
      "Epoch 9/100\n",
      "768/768 [==============================] - 0s - loss: 0.8505 - acc: 0.6458 - binary_accuracy: 0.6458     \n",
      "Epoch 10/100\n",
      "768/768 [==============================] - 0s - loss: 0.8036 - acc: 0.6471 - binary_accuracy: 0.6471     \n",
      "Epoch 11/100\n",
      "768/768 [==============================] - 0s - loss: 0.7933 - acc: 0.6536 - binary_accuracy: 0.6536     \n",
      "Epoch 12/100\n",
      "768/768 [==============================] - 0s - loss: 0.7519 - acc: 0.6589 - binary_accuracy: 0.6589     \n",
      "Epoch 13/100\n",
      "768/768 [==============================] - 0s - loss: 0.7437 - acc: 0.6589 - binary_accuracy: 0.6589     \n",
      "Epoch 14/100\n",
      "768/768 [==============================] - 0s - loss: 0.7194 - acc: 0.6589 - binary_accuracy: 0.6589     \n",
      "Epoch 15/100\n",
      "768/768 [==============================] - 0s - loss: 0.7009 - acc: 0.6484 - binary_accuracy: 0.6484     \n",
      "Epoch 16/100\n",
      "768/768 [==============================] - 0s - loss: 0.6828 - acc: 0.6576 - binary_accuracy: 0.6576     \n",
      "Epoch 17/100\n",
      "768/768 [==============================] - 0s - loss: 0.6802 - acc: 0.6549 - binary_accuracy: 0.6549     \n",
      "Epoch 18/100\n",
      "768/768 [==============================] - 0s - loss: 0.6964 - acc: 0.6380 - binary_accuracy: 0.6380     \n",
      "Epoch 19/100\n",
      "768/768 [==============================] - 0s - loss: 0.6531 - acc: 0.6667 - binary_accuracy: 0.6667     \n",
      "Epoch 20/100\n",
      "768/768 [==============================] - 0s - loss: 0.6823 - acc: 0.6693 - binary_accuracy: 0.6693     \n",
      "Epoch 21/100\n",
      "768/768 [==============================] - 0s - loss: 0.6421 - acc: 0.6693 - binary_accuracy: 0.6693     \n",
      "Epoch 22/100\n",
      "768/768 [==============================] - 0s - loss: 0.6305 - acc: 0.6849 - binary_accuracy: 0.6849     \n",
      "Epoch 23/100\n",
      "768/768 [==============================] - 0s - loss: 0.6321 - acc: 0.6758 - binary_accuracy: 0.6758     \n",
      "Epoch 24/100\n",
      "768/768 [==============================] - 0s - loss: 0.6323 - acc: 0.6810 - binary_accuracy: 0.6810     \n",
      "Epoch 25/100\n",
      "768/768 [==============================] - 0s - loss: 0.6121 - acc: 0.6992 - binary_accuracy: 0.6992     \n",
      "Epoch 26/100\n",
      "768/768 [==============================] - 0s - loss: 0.6079 - acc: 0.7161 - binary_accuracy: 0.7161     \n",
      "Epoch 27/100\n",
      "768/768 [==============================] - 0s - loss: 0.6218 - acc: 0.6810 - binary_accuracy: 0.6810     \n",
      "Epoch 28/100\n",
      "768/768 [==============================] - 0s - loss: 0.6042 - acc: 0.7005 - binary_accuracy: 0.7005     \n",
      "Epoch 29/100\n",
      "768/768 [==============================] - 0s - loss: 0.5954 - acc: 0.7031 - binary_accuracy: 0.7031     \n",
      "Epoch 30/100\n",
      "768/768 [==============================] - 0s - loss: 0.6078 - acc: 0.7031 - binary_accuracy: 0.7031     \n",
      "Epoch 31/100\n",
      "768/768 [==============================] - 0s - loss: 0.6202 - acc: 0.6966 - binary_accuracy: 0.6966     \n",
      "Epoch 32/100\n",
      "768/768 [==============================] - 0s - loss: 0.6100 - acc: 0.7031 - binary_accuracy: 0.7031     \n",
      "Epoch 33/100\n",
      "768/768 [==============================] - 0s - loss: 0.5837 - acc: 0.7214 - binary_accuracy: 0.7214     \n",
      "Epoch 34/100\n",
      "768/768 [==============================] - 0s - loss: 0.5842 - acc: 0.7240 - binary_accuracy: 0.7240     \n",
      "Epoch 35/100\n",
      "768/768 [==============================] - 0s - loss: 0.5972 - acc: 0.7083 - binary_accuracy: 0.7083     \n",
      "Epoch 36/100\n",
      "768/768 [==============================] - 0s - loss: 0.6161 - acc: 0.7057 - binary_accuracy: 0.7057     \n",
      "Epoch 37/100\n",
      "768/768 [==============================] - 0s - loss: 0.5817 - acc: 0.7240 - binary_accuracy: 0.7240     \n",
      "Epoch 38/100\n",
      "768/768 [==============================] - 0s - loss: 0.6079 - acc: 0.6862 - binary_accuracy: 0.6862     \n",
      "Epoch 39/100\n",
      "768/768 [==============================] - 0s - loss: 0.5847 - acc: 0.7201 - binary_accuracy: 0.7201     \n",
      "Epoch 40/100\n",
      "768/768 [==============================] - 0s - loss: 0.5727 - acc: 0.7083 - binary_accuracy: 0.7083     \n",
      "Epoch 41/100\n",
      "768/768 [==============================] - 0s - loss: 0.5743 - acc: 0.7227 - binary_accuracy: 0.7227     \n",
      "Epoch 42/100\n",
      "768/768 [==============================] - 0s - loss: 0.5719 - acc: 0.7135 - binary_accuracy: 0.7135     \n",
      "Epoch 43/100\n",
      "768/768 [==============================] - 0s - loss: 0.5672 - acc: 0.7266 - binary_accuracy: 0.7266     \n",
      "Epoch 44/100\n",
      "768/768 [==============================] - 0s - loss: 0.5646 - acc: 0.7318 - binary_accuracy: 0.7318     \n",
      "Epoch 45/100\n",
      "768/768 [==============================] - 0s - loss: 0.5622 - acc: 0.7240 - binary_accuracy: 0.7240     \n",
      "Epoch 46/100\n",
      "768/768 [==============================] - 0s - loss: 0.5653 - acc: 0.7135 - binary_accuracy: 0.7135     \n",
      "Epoch 47/100\n",
      "768/768 [==============================] - 0s - loss: 0.5632 - acc: 0.7201 - binary_accuracy: 0.7201     \n",
      "Epoch 48/100\n",
      "768/768 [==============================] - 0s - loss: 0.5772 - acc: 0.7187 - binary_accuracy: 0.7187     \n",
      "Epoch 49/100\n",
      "768/768 [==============================] - 0s - loss: 0.5608 - acc: 0.7266 - binary_accuracy: 0.7266     \n",
      "Epoch 50/100\n",
      "768/768 [==============================] - 0s - loss: 0.5536 - acc: 0.7214 - binary_accuracy: 0.7214     \n",
      "Epoch 51/100\n",
      "768/768 [==============================] - 0s - loss: 0.5595 - acc: 0.7187 - binary_accuracy: 0.7187     \n",
      "Epoch 52/100\n",
      "768/768 [==============================] - 0s - loss: 0.5579 - acc: 0.7240 - binary_accuracy: 0.7240     \n",
      "Epoch 53/100\n",
      "768/768 [==============================] - 0s - loss: 0.5781 - acc: 0.7188 - binary_accuracy: 0.7188     \n",
      "Epoch 54/100\n",
      "768/768 [==============================] - 0s - loss: 0.5773 - acc: 0.6940 - binary_accuracy: 0.6940     \n",
      "Epoch 55/100\n",
      "768/768 [==============================] - 0s - loss: 0.5527 - acc: 0.7266 - binary_accuracy: 0.7266     \n",
      "Epoch 56/100\n",
      "768/768 [==============================] - 0s - loss: 0.5516 - acc: 0.7227 - binary_accuracy: 0.7227     \n",
      "Epoch 57/100\n",
      "768/768 [==============================] - 0s - loss: 0.5488 - acc: 0.7318 - binary_accuracy: 0.7318     \n",
      "Epoch 58/100\n",
      "768/768 [==============================] - 0s - loss: 0.5451 - acc: 0.7344 - binary_accuracy: 0.7344     \n",
      "Epoch 59/100\n",
      "768/768 [==============================] - 0s - loss: 0.5661 - acc: 0.7161 - binary_accuracy: 0.7161     \n",
      "Epoch 60/100\n",
      "768/768 [==============================] - 0s - loss: 0.5487 - acc: 0.7266 - binary_accuracy: 0.7266     \n",
      "Epoch 61/100\n",
      "768/768 [==============================] - 0s - loss: 0.5405 - acc: 0.7370 - binary_accuracy: 0.7370     \n",
      "Epoch 62/100\n",
      "768/768 [==============================] - 0s - loss: 0.5618 - acc: 0.7305 - binary_accuracy: 0.7305     \n",
      "Epoch 63/100\n",
      "768/768 [==============================] - 0s - loss: 0.5416 - acc: 0.7383 - binary_accuracy: 0.7383     \n",
      "Epoch 64/100\n",
      "768/768 [==============================] - 0s - loss: 0.5423 - acc: 0.7266 - binary_accuracy: 0.7266     \n",
      "Epoch 65/100\n",
      "768/768 [==============================] - 0s - loss: 0.5410 - acc: 0.7461 - binary_accuracy: 0.7461     \n",
      "Epoch 66/100\n",
      "768/768 [==============================] - 0s - loss: 0.5400 - acc: 0.7318 - binary_accuracy: 0.7318     \n",
      "Epoch 67/100\n",
      "768/768 [==============================] - 0s - loss: 0.5466 - acc: 0.7292 - binary_accuracy: 0.7292     \n",
      "Epoch 68/100\n",
      "768/768 [==============================] - 0s - loss: 0.5421 - acc: 0.7370 - binary_accuracy: 0.7370     \n",
      "Epoch 69/100\n"
     ]
    },
    {
     "name": "stdout",
     "output_type": "stream",
     "text": [
      "768/768 [==============================] - 0s - loss: 0.5483 - acc: 0.7357 - binary_accuracy: 0.7357     \n",
      "Epoch 70/100\n",
      "768/768 [==============================] - 0s - loss: 0.5363 - acc: 0.7448 - binary_accuracy: 0.7448     \n",
      "Epoch 71/100\n",
      "768/768 [==============================] - 0s - loss: 0.5367 - acc: 0.7396 - binary_accuracy: 0.7396     \n",
      "Epoch 72/100\n",
      "768/768 [==============================] - 0s - loss: 0.5401 - acc: 0.7409 - binary_accuracy: 0.7409     \n",
      "Epoch 73/100\n",
      "768/768 [==============================] - 0s - loss: 0.5276 - acc: 0.7409 - binary_accuracy: 0.7409     \n",
      "Epoch 74/100\n",
      "768/768 [==============================] - 0s - loss: 0.5279 - acc: 0.7331 - binary_accuracy: 0.7331     \n",
      "Epoch 75/100\n",
      "768/768 [==============================] - 0s - loss: 0.5300 - acc: 0.7435 - binary_accuracy: 0.7435     \n",
      "Epoch 76/100\n",
      "768/768 [==============================] - 0s - loss: 0.5432 - acc: 0.7279 - binary_accuracy: 0.7279     \n",
      "Epoch 77/100\n",
      "768/768 [==============================] - 0s - loss: 0.5332 - acc: 0.7474 - binary_accuracy: 0.7474     \n",
      "Epoch 78/100\n",
      "768/768 [==============================] - 0s - loss: 0.5256 - acc: 0.7435 - binary_accuracy: 0.7435     \n",
      "Epoch 79/100\n",
      "768/768 [==============================] - 0s - loss: 0.5226 - acc: 0.7526 - binary_accuracy: 0.7526     \n",
      "Epoch 80/100\n",
      "768/768 [==============================] - 0s - loss: 0.5263 - acc: 0.7409 - binary_accuracy: 0.7409     \n",
      "Epoch 81/100\n",
      "768/768 [==============================] - 0s - loss: 0.5258 - acc: 0.7318 - binary_accuracy: 0.7318     \n",
      "Epoch 82/100\n",
      "768/768 [==============================] - 0s - loss: 0.5451 - acc: 0.7227 - binary_accuracy: 0.7227     \n",
      "Epoch 83/100\n",
      "768/768 [==============================] - 0s - loss: 0.5258 - acc: 0.7435 - binary_accuracy: 0.7435     \n",
      "Epoch 84/100\n",
      "768/768 [==============================] - 0s - loss: 0.5326 - acc: 0.7357 - binary_accuracy: 0.7357     \n",
      "Epoch 85/100\n",
      "768/768 [==============================] - 0s - loss: 0.5360 - acc: 0.7487 - binary_accuracy: 0.7487     \n",
      "Epoch 86/100\n",
      "768/768 [==============================] - 0s - loss: 0.5339 - acc: 0.7435 - binary_accuracy: 0.7435     \n",
      "Epoch 87/100\n",
      "768/768 [==============================] - 0s - loss: 0.5385 - acc: 0.7474 - binary_accuracy: 0.7474     \n",
      "Epoch 88/100\n",
      "768/768 [==============================] - 0s - loss: 0.5317 - acc: 0.7279 - binary_accuracy: 0.7279     \n",
      "Epoch 89/100\n",
      "768/768 [==============================] - 0s - loss: 0.5290 - acc: 0.7461 - binary_accuracy: 0.7461     \n",
      "Epoch 90/100\n",
      "768/768 [==============================] - 0s - loss: 0.5349 - acc: 0.7344 - binary_accuracy: 0.7344     \n",
      "Epoch 91/100\n",
      "768/768 [==============================] - 0s - loss: 0.5175 - acc: 0.7435 - binary_accuracy: 0.7435     \n",
      "Epoch 92/100\n",
      "768/768 [==============================] - 0s - loss: 0.5369 - acc: 0.7344 - binary_accuracy: 0.7344     \n",
      "Epoch 93/100\n",
      "768/768 [==============================] - 0s - loss: 0.5128 - acc: 0.7513 - binary_accuracy: 0.7513     \n",
      "Epoch 94/100\n",
      "768/768 [==============================] - 0s - loss: 0.5132 - acc: 0.7422 - binary_accuracy: 0.7422     \n",
      "Epoch 95/100\n",
      "768/768 [==============================] - 0s - loss: 0.5216 - acc: 0.7539 - binary_accuracy: 0.7539     \n",
      "Epoch 96/100\n",
      "768/768 [==============================] - 0s - loss: 0.5192 - acc: 0.7396 - binary_accuracy: 0.7396     \n",
      "Epoch 97/100\n",
      "768/768 [==============================] - 0s - loss: 0.5113 - acc: 0.7513 - binary_accuracy: 0.7513     \n",
      "Epoch 98/100\n",
      "768/768 [==============================] - 0s - loss: 0.5270 - acc: 0.7461 - binary_accuracy: 0.7461     \n",
      "Epoch 99/100\n",
      "768/768 [==============================] - 0s - loss: 0.5244 - acc: 0.7357 - binary_accuracy: 0.7357     \n",
      "Epoch 100/100\n",
      "768/768 [==============================] - 0s - loss: 0.5245 - acc: 0.7383 - binary_accuracy: 0.7383     \n"
     ]
    },
    {
     "data": {
      "text/plain": [
       "<keras.callbacks.History at 0x120c32f28>"
      ]
     },
     "execution_count": 265,
     "metadata": {},
     "output_type": "execute_result"
    }
   ],
   "source": [
    "network.fit(X,Y,epochs=100, batch_size=30) #"
   ]
  },
  {
   "cell_type": "markdown",
   "metadata": {},
   "source": [
    "Not the highest accuracy, but we are also working with very little data and we did not explore the art of tweaking the knobs on Keras, or validating our model with test data. If you liked this I would recommend checking out a few blogs of notable AI rockstars that are driving innovation across industries http://cs.stanford.edu/people/karpathy/, https://www.quora.com/Whats-the-most-effective-way-to-get-started-with-deep-learning"
   ]
  },
  {
   "cell_type": "markdown",
   "metadata": {},
   "source": [
    "I will try to make more of these that explore Keras in more depth!\n"
   ]
  },
  {
   "cell_type": "markdown",
   "metadata": {},
   "source": [
    "Credit for this code goes to me, Mark Conrad\n",
    "https://www.linkedin.com/in/mark-conrad/ \n"
   ]
  },
  {
   "cell_type": "code",
   "execution_count": null,
   "metadata": {
    "collapsed": true
   },
   "outputs": [],
   "source": []
  }
 ],
 "metadata": {
  "kernelspec": {
   "display_name": "Python [conda root]",
   "language": "python",
   "name": "conda-root-py"
  },
  "language_info": {
   "codemirror_mode": {
    "name": "ipython",
    "version": 3
   },
   "file_extension": ".py",
   "mimetype": "text/x-python",
   "name": "python",
   "nbconvert_exporter": "python",
   "pygments_lexer": "ipython3",
   "version": "3.6.2"
  }
 },
 "nbformat": 4,
 "nbformat_minor": 2
}
