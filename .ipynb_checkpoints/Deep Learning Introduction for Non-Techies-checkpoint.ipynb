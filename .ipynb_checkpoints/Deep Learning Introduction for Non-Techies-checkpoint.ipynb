{
 "cells": [
  {
   "cell_type": "markdown",
   "metadata": {},
   "source": [
    "## Here we will explore the basics of Neural Network architecture to the widest audience possible. Machine learning concepts tend to use complex jargon to describe concepts that can be defined in simpler terms -which I will try to do in this exercise. "
   ]
  },
  {
   "cell_type": "markdown",
   "metadata": {},
   "source": [
    "We will look at the Pima Indians Diabetes dataset for  (https://archive.ics.uci.edu/ml/datasets/pima+indians+diabetes). First, we want to get the data into our local machines. To do this let's use NumPy, which creates a format similar to Excel spreadsheets with rows and columns, however it is not constrained by the memory limits of Excel.\n",
    "\n",
    "First we want to install Anaconda and python 3.6 specifically: https://www.anaconda.com/download/\n",
    "\n",
    "Next, we want to install packages which our work depends on.\n",
    "On the terminal we want to get these packages by typing: \n",
    "conda install -c conda-forge tensorflow keras\n",
    "\n",
    "Next let's create a new directory called DeepLearning in the terminal:\n",
    "\n",
    "mkdir DeepLearning # make the directory\n",
    "\n",
    "cd DeepLearning # move to that directory to do work\n",
    "\n",
    "To download the file from the UC Irvine server we go to our terminal in our working file directory and use the command: \n",
    "\n",
    "wget \"https://archive.ics.uci.edu/ml/machine-learning-databases/pima-indians-diabetes/pima-indians-diabetes.data\" \n",
    "\n",
    "This will download the file our current directory and we can now go back to the terminal and type:\n",
    "\n",
    "jupyter notebook\n",
    "\n"
   ]
  },
  {
   "cell_type": "code",
   "execution_count": 298,
   "metadata": {},
   "outputs": [],
   "source": [
    "# We want to import the scientific packages...\n",
    "import numpy as np # here is the standard abbreviation for numpy\n",
    "import keras\n",
    "import tensorflow\n"
   ]
  },
  {
   "cell_type": "code",
   "execution_count": 299,
   "metadata": {},
   "outputs": [],
   "source": [
    "# It is common practice to set a seed, which means that any random assignment can be recreated by others. \n",
    "# np.random.seed(1)\n",
    "# We are using the function in numpy called loadtxt to read the file into a Excel-like format that Python can use\n",
    "# If the file is in the directory that our notebook is in we can use the command numpy.loadtxt(\"file.extension\", delimiter = \"separation between values\")\n",
    "file = np.loadtxt(\"pima-indians-diabetes.data\", delimiter = ',') \n"
   ]
  },
  {
   "cell_type": "code",
   "execution_count": 300,
   "metadata": {},
   "outputs": [
    {
     "name": "stdout",
     "output_type": "stream",
     "text": [
      "(768, 9)\n"
     ]
    }
   ],
   "source": [
    "print(file.shape) # (pandas or numpy file).shape let's us see the dimensions (rows x columns) # Very similar to R, the head command let's us get a feel for the data by displaying up to the first 10\n",
    "# records.\n"
   ]
  },
  {
   "cell_type": "markdown",
   "metadata": {},
   "source": [
    "We want to split the data between our eight inputs (Xs) and output (Y), we can see that column 8 has two possible outputs (classes) either one or zero. When looking over the documentation (https://archive.ics.uci.edu/ml/datasets/pima+indians+diabetes) we see that this is the output that we are trying to predict."
   ]
  },
  {
   "cell_type": "code",
   "execution_count": 301,
   "metadata": {},
   "outputs": [],
   "source": [
    "# Let's now split the data:\n",
    "# Let's break down this operation...\n",
    "# first for X we want to think of the \"[]\" as looking up the selected values we specify.\n",
    "# file[row(s), column(s)], and \":\" specifies that we want all records of the specified dimension.\n",
    "# We want the records, but for X we want to exclude the last column which serves as our output that we are trying to predict. \n",
    "# thus we use the designation [:8], for all columns up to but excluding 8. \n",
    "X = file[:, 0:8]\n",
    "Y = file[:, 8]"
   ]
  },
  {
   "cell_type": "code",
   "execution_count": 302,
   "metadata": {},
   "outputs": [
    {
     "data": {
      "text/plain": [
       "(768, 8)"
      ]
     },
     "execution_count": 302,
     "metadata": {},
     "output_type": "execute_result"
    }
   ],
   "source": [
    "X.shape # here we see the shape of the collection of inputs"
   ]
  },
  {
   "cell_type": "code",
   "execution_count": 303,
   "metadata": {},
   "outputs": [
    {
     "data": {
      "text/plain": [
       "(768,)"
      ]
     },
     "execution_count": 303,
     "metadata": {},
     "output_type": "execute_result"
    }
   ],
   "source": [
    "Y.shape # now let's check out the shape of the output column"
   ]
  },
  {
   "cell_type": "markdown",
   "metadata": {},
   "source": [
    "Great! Now we should define the general architecture of our network... Feel free to refer to this documentation religiously (https://keras.io/getting-started/sequential-model-guide/). What is a neural network? Broadly speaking a neural network is going to be comprised of an input layer and then subsequent layers that perform transformations on the data before finally reaching the output layer, which in this case is predicting the onset of diabetes given certain conditions. In simple terms we can think of each layer as a new logistic regression function, as I have written in psuedo code: z = dot_product((weights.transpose),(inputs)) + bias \n",
    "\n",
    "This should look familiar to any practitioners of linear regression, if not here are some helpful refreshers https://www.khanacademy.org/math/precalculus/precalc-matrices/multiplying-matrices-by-matrices/v/multiplying-a-matrix-by-a-matrix, http://www.stat.cmu.edu/~cshalizi/uADA/12/lectures/ch12.pdf  \n",
    "With this equation we then calculate the activation function sigmoid = 1/(1+e^(-z)) if z is large we get a number very close to 1, and if z is very small (negative) we a number very close to zero, thus a binary classifier (0 or 1). Concretely, I like to define neural networks as stacks of logistic regression layers. This isn't technically correct, but is a good starting point before exploring the other components.\n",
    "Some more housekeeping, I have spoken to several practicing Data Scientists and most of them use Keras as the front-end and have Tensorflow do the heavy lifting in the back (tensorflow has been found to be much faster than it's competitor Theano in most applications). This is noteworthy because it saves lines of code and Keras has a lot of utility because it automates many of the tasks of Tensorflow.\n",
    "\n",
    "Digression aside, our goal is to have our cost function be minimized, and in the case of Logistic regression we want to minimize our \"binary cross entropy\" cost function. We can think of this process in terms of taking steps towards the bottom of a hill, each epoch (iteration through the entire data set) will show us the loss which can be seen as a single record value for the cost function."
   ]
  },
  {
   "cell_type": "markdown",
   "metadata": {},
   "source": [
    "Now let's get to Keras! We define Sequential as the stack of layers."
   ]
  },
  {
   "cell_type": "code",
   "execution_count": 304,
   "metadata": {},
   "outputs": [],
   "source": [
    "from keras.models import Sequential\n",
    "from keras.layers import Dense, Activation, Dropout\n",
    "\n",
    "network = Sequential()# Here is our starting point."
   ]
  },
  {
   "cell_type": "markdown",
   "metadata": {},
   "source": [
    "Now let's add a layer to the network... Dense is composed of units, an activation function. The activation function can be the same that we defined for the logistic regression and the number of units defines the number of nodes in the layer. There are also a bevy of other useful parameters (https://keras.io/layers/core/). Moreover, we should note that it performs the operation: output = activation(dotproduct(input)o(weight) + bias)\n",
    "which should look familiar! Let's now make our layers in the network. \n"
   ]
  },
  {
   "cell_type": "code",
   "execution_count": 305,
   "metadata": {},
   "outputs": [],
   "source": [
    "network.add(Dense(12, input_dim = 8, activation = 'relu' )) # ReLU tends to reach a minimum faster than sigmoid activation"
   ]
  },
  {
   "cell_type": "code",
   "execution_count": 306,
   "metadata": {
    "collapsed": true
   },
   "outputs": [],
   "source": [
    "network.add(Dense(8, activation = 'relu')) # I picked rather arbitrary values, feel free to ticker!\n"
   ]
  },
  {
   "cell_type": "markdown",
   "metadata": {},
   "source": [
    "A technical definition for these two layers would be two hidden layers, these are defined as the layers between the input and the output layer. So, that means the fun has to end and we are going to define our output layer. For binary classification (0 or 1) the best practices state to use the sigmoid function in the output layer. In this case we are using the transformation of the data in the two hidden layers to see what the classifier called a \"Multi-layer Perceptron\" predicts for the output. "
   ]
  },
  {
   "cell_type": "code",
   "execution_count": 307,
   "metadata": {
    "collapsed": true
   },
   "outputs": [],
   "source": [
    "network.add(Dense(1, activation='sigmoid'))"
   ]
  },
  {
   "cell_type": "markdown",
   "metadata": {},
   "source": [
    "Now we want to design the learning process, which means we call the compile method, we specify optimizers like how we try to take steps towards minimizing our cost function as much as possible, in our case it will be binary_crossentropy. The optimizer is where we decide how we want to take steps towards finding the best balance point for our cost function, and we use metrics to evaluate the models performance. Sounds simple enough! "
   ]
  },
  {
   "cell_type": "code",
   "execution_count": 308,
   "metadata": {},
   "outputs": [],
   "source": [
    "network.compile( loss='binary_crossentropy',optimizer='adam', metrics=['accuracy', 'binary_accuracy'])"
   ]
  },
  {
   "cell_type": "markdown",
   "metadata": {},
   "source": [
    "After compiling the network we can now run it! We specify our inputs and the outputs, then the number of full loops we want to run through the data. One thing to note is that running such a classifier through the same data over and over again means that it will not generalize to new data, a process called overfitting. Luckily, there are ways to rectify that, including a regularization term which helps the model be more cool and behave less like a obsessive significant other.  However, those tools are beyond the scope of this tutorial. For now let's run this model and see what happens to our loss and accuracy!"
   ]
  },
  {
   "cell_type": "code",
   "execution_count": null,
   "metadata": {},
   "outputs": [
    {
     "name": "stdout",
     "output_type": "stream",
     "text": [
      "Epoch 1/100\n"
     ]
    }
   ],
   "source": [
    "network.fit(X,Y,epochs=100, batch_size=30) #"
   ]
  },
  {
   "cell_type": "markdown",
   "metadata": {},
   "source": [
    "Not the highest accuracy, but we are also working with very little data and we did not explore the art of tweaking the knobs on Keras, or validating our model with test data. If you liked this I would recommend checking out a few blogs of notable AI rockstars that are driving innovation across industries http://cs.stanford.edu/people/karpathy/, https://www.quora.com/Whats-the-most-effective-way-to-get-started-with-deep-learning"
   ]
  },
  {
   "cell_type": "markdown",
   "metadata": {},
   "source": [
    "I will try to make more of these that explore Keras in more depth!\n"
   ]
  },
  {
   "cell_type": "markdown",
   "metadata": {},
   "source": [
    "Credit for this code goes to me, Mark Conrad\n",
    "https://www.linkedin.com/in/mark-conrad/ \n"
   ]
  },
  {
   "cell_type": "code",
   "execution_count": null,
   "metadata": {
    "collapsed": true
   },
   "outputs": [],
   "source": []
  }
 ],
 "metadata": {
  "kernelspec": {
   "display_name": "Python [conda root]",
   "language": "python",
   "name": "conda-root-py"
  },
  "language_info": {
   "codemirror_mode": {
    "name": "ipython",
    "version": 3
   },
   "file_extension": ".py",
   "mimetype": "text/x-python",
   "name": "python",
   "nbconvert_exporter": "python",
   "pygments_lexer": "ipython3",
   "version": "3.6.2"
  }
 },
 "nbformat": 4,
 "nbformat_minor": 2
}
