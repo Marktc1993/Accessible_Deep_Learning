{
 "cells": [
  {
   "cell_type": "markdown",
   "metadata": {},
   "source": [
    "## Here we will explore the basics of Neural Network architecture to the widest audience possible. Machine learning concepts tend to use complex jargon to describe concepts that can be defined in simpler terms -which I will try to do in this exercise. "
   ]
  },
  {
   "cell_type": "markdown",
   "metadata": {},
   "source": [
    "We will look at the Pima Indians Diabetes dataset for  (https://archive.ics.uci.edu/ml/datasets/pima+indians+diabetes). First, we want to get the data into our local machines. To do this let's use NumPy, which creates a format similar to Excel spreadsheets with rows and columns, however it is not constrained by the memory limits of Excel.\n",
    "\n",
    "First we want to install Anaconda and python 3.6 specifically: https://www.anaconda.com/download/\n",
    "\n",
    "Next, we want to install packages which our work depends on.\n",
    "On the terminal we want to get these packages by typing: \n",
    "conda install -c conda-forge tensorflow keras\n",
    "\n",
    "Next let's create a new directory called DeepLearning in the terminal:\n",
    "\n",
    "mkdir DeepLearning # make the directory\n",
    "\n",
    "cd DeepLearning # move to that directory to do work\n",
    "\n",
    "To download the file from the UC Irvine server we go to our terminal in our working file directory and use the command: \n",
    "\n",
    "wget \"https://archive.ics.uci.edu/ml/machine-learning-databases/pima-indians-diabetes/pima-indians-diabetes.data\" \n",
    "\n",
    "This will download the file our current directory and we can now go back to the terminal and type:\n",
    "\n",
    "jupyter notebook\n",
    "\n"
   ]
  },
  {
   "cell_type": "code",
   "execution_count": 1,
   "metadata": {},
   "outputs": [
    {
     "name": "stderr",
     "output_type": "stream",
     "text": [
      "Using TensorFlow backend.\n"
     ]
    }
   ],
   "source": [
    "# We want to import the scientific packages...\n",
    "import numpy as np # here is the standard abbreviation for numpy\n",
    "import keras\n",
    "import tensorflow\n"
   ]
  },
  {
   "cell_type": "code",
   "execution_count": 2,
   "metadata": {},
   "outputs": [],
   "source": [
    "# It is common practice to set a seed, which means that any random assignment can be recreated by others. \n",
    "# np.random.seed(1)\n",
    "# We are using the function in numpy called loadtxt to read the file into a Excel-like format that Python can use\n",
    "# If the file is in the directory that our notebook is in we can use the command numpy.loadtxt(\"file.extension\", delimiter = \"separation between values\")\n",
    "file = np.loadtxt(\"pima-indians-diabetes.data\", delimiter = ',') \n"
   ]
  },
  {
   "cell_type": "code",
   "execution_count": 3,
   "metadata": {},
   "outputs": [
    {
     "name": "stdout",
     "output_type": "stream",
     "text": [
      "(768, 9)\n"
     ]
    }
   ],
   "source": [
    "print(file.shape) # (pandas or numpy file).shape let's us see the dimensions (rows x columns) # Very similar to R, the head command let's us get a feel for the data by displaying up to the first 10\n",
    "# records.\n"
   ]
  },
  {
   "cell_type": "markdown",
   "metadata": {},
   "source": [
    "We want to split the data between our eight inputs (Xs) and output (Y), we can see that column 8 has two possible outputs (classes) either one or zero. When looking over the documentation (https://archive.ics.uci.edu/ml/datasets/pima+indians+diabetes) we see that this is the output that we are trying to predict."
   ]
  },
  {
   "cell_type": "code",
   "execution_count": 4,
   "metadata": {},
   "outputs": [],
   "source": [
    "# Let's now split the data:\n",
    "# Let's break down this operation...\n",
    "# first for X we want to think of the \"[]\" as looking up the selected values we specify.\n",
    "# file[row(s), column(s)], and \":\" specifies that we want all records of the specified dimension.\n",
    "# We want the records, but for X we want to exclude the last column which serves as our output that we are trying to predict. \n",
    "# thus we use the designation [:8], for all columns up to but excluding 8. \n",
    "X = file[:, 0:8]\n",
    "Y = file[:, 8]"
   ]
  },
  {
   "cell_type": "code",
   "execution_count": 5,
   "metadata": {},
   "outputs": [
    {
     "data": {
      "text/plain": [
       "(768, 8)"
      ]
     },
     "execution_count": 5,
     "metadata": {},
     "output_type": "execute_result"
    }
   ],
   "source": [
    "X.shape # here we see the shape of the collection of inputs"
   ]
  },
  {
   "cell_type": "code",
   "execution_count": 6,
   "metadata": {},
   "outputs": [
    {
     "data": {
      "text/plain": [
       "(768,)"
      ]
     },
     "execution_count": 6,
     "metadata": {},
     "output_type": "execute_result"
    }
   ],
   "source": [
    "Y.shape # now let's check out the shape of the output column"
   ]
  },
  {
   "cell_type": "markdown",
   "metadata": {},
   "source": [
    "Great! Now we should define the general architecture of our network... Feel free to refer to this documentation religiously (https://keras.io/getting-started/sequential-model-guide/). What is a neural network? Broadly speaking a neural network is going to be comprised of an input layer and then subsequent layers that perform transformations on the data before finally reaching the output layer, which in this case is predicting the onset of diabetes given certain conditions. In simple terms we can think of each layer as a new logistic regression function, as I have written in psuedo code: z = dot_product((weights.transpose),(inputs)) + bias \n",
    "\n",
    "This should look familiar to any practitioners of linear regression, if not here are some helpful refreshers https://www.khanacademy.org/math/precalculus/precalc-matrices/multiplying-matrices-by-matrices/v/multiplying-a-matrix-by-a-matrix, http://www.stat.cmu.edu/~cshalizi/uADA/12/lectures/ch12.pdf  \n",
    "With this equation we then calculate the activation function sigmoid = 1/(1+e^(-z)) if z is large we get a number very close to 1, and if z is very small (negative) we a number very close to zero, thus a binary classifier (0 or 1). Concretely, I like to define neural networks as stacks of logistic regression layers. This isn't technically correct, but is a good starting point before exploring the other components.\n",
    "Some more housekeeping, I have spoken to several practicing Data Scientists and most of them use Keras as the front-end and have Tensorflow do the heavy lifting in the back (tensorflow has been found to be much faster than it's competitor Theano in most applications). This is noteworthy because it saves lines of code and Keras has a lot of utility because it automates many of the tasks of Tensorflow.\n",
    "\n",
    "Digression aside, our goal is to have our cost function be minimized, and in the case of Logistic regression we want to minimize our \"binary cross entropy\" cost function. We can think of this process in terms of taking steps towards the bottom of a hill, each epoch (iteration through the entire data set) will show us the loss which can be seen as a single record value for the cost function."
   ]
  },
  {
   "cell_type": "markdown",
   "metadata": {},
   "source": [
    "Now let's get to Keras! We define Sequential as the stack of layers."
   ]
  },
  {
   "cell_type": "code",
   "execution_count": 7,
   "metadata": {},
   "outputs": [],
   "source": [
    "from keras.models import Sequential\n",
    "from keras.layers import Dense, Activation, Dropout\n",
    "\n",
    "network = Sequential()# Here is our starting point."
   ]
  },
  {
   "cell_type": "markdown",
   "metadata": {},
   "source": [
    "Now let's add a layer to the network... Dense is composed of units, an activation function. The activation function can be the same that we defined for the logistic regression and the number of units defines the number of nodes in the layer. There are also a bevy of other useful parameters (https://keras.io/layers/core/). Moreover, we should note that it performs the operation: output = activation(dotproduct(input)o(weight) + bias)\n",
    "which should look familiar! Let's now make our layers in the network. \n"
   ]
  },
  {
   "cell_type": "code",
   "execution_count": 8,
   "metadata": {},
   "outputs": [],
   "source": [
    "network.add(Dense(12, input_dim = 8, activation = 'relu' )) # ReLU tends to reach a minimum faster than sigmoid activation"
   ]
  },
  {
   "cell_type": "code",
   "execution_count": 9,
   "metadata": {},
   "outputs": [],
   "source": [
    "network.add(Dense(8, activation = 'relu')) # I picked rather arbitrary values, feel free to ticker!\n"
   ]
  },
  {
   "cell_type": "markdown",
   "metadata": {},
   "source": [
    "A technical definition for these two layers would be two hidden layers, these are defined as the layers between the input and the output layer. So, that means the fun has to end and we are going to define our output layer. For binary classification (0 or 1) the best practices state to use the sigmoid function in the output layer. In this case we are using the transformation of the data in the two hidden layers to see what the classifier called a \"Multi-layer Perceptron\" predicts for the output. "
   ]
  },
  {
   "cell_type": "code",
   "execution_count": 10,
   "metadata": {},
   "outputs": [],
   "source": [
    "network.add(Dense(1, activation='sigmoid'))"
   ]
  },
  {
   "cell_type": "markdown",
   "metadata": {},
   "source": [
    "Now we want to design the learning process, which means we call the compile method, we specify optimizers like how we try to take steps towards minimizing our cost function as much as possible, in our case it will be binary_crossentropy. The optimizer is where we decide how we want to take steps towards finding the best balance point for our cost function, and we use metrics to evaluate the models performance. Sounds simple enough! "
   ]
  },
  {
   "cell_type": "code",
   "execution_count": 11,
   "metadata": {},
   "outputs": [],
   "source": [
    "network.compile( loss='binary_crossentropy',optimizer='adam', metrics=['accuracy', 'binary_accuracy'])"
   ]
  },
  {
   "cell_type": "markdown",
   "metadata": {},
   "source": [
    "After compiling the network we can now run it! We specify our inputs and the outputs, then the number of full loops we want to run through the data. One thing to note is that running such a classifier through the same data over and over again means that it will not generalize to new data, a process called overfitting. Luckily, there are ways to rectify that, including a regularization term which helps the model be more cool and behave less like a obsessive significant other.  However, those tools are beyond the scope of this tutorial. For now let's run this model and see what happens to our loss and accuracy!"
   ]
  },
  {
   "cell_type": "code",
   "execution_count": 12,
   "metadata": {},
   "outputs": [
    {
     "name": "stdout",
     "output_type": "stream",
     "text": [
      "Epoch 1/100\n",
      "768/768 [==============================] - 0s - loss: 6.4636 - acc: 0.4010 - binary_accuracy: 0.4010     \n",
      "Epoch 2/100\n",
      "768/768 [==============================] - 0s - loss: 2.1853 - acc: 0.5326 - binary_accuracy: 0.5326     \n",
      "Epoch 3/100\n",
      "768/768 [==============================] - 0s - loss: 1.0860 - acc: 0.5599 - binary_accuracy: 0.5599     \n",
      "Epoch 4/100\n",
      "768/768 [==============================] - 0s - loss: 0.9463 - acc: 0.5938 - binary_accuracy: 0.5938     \n",
      "Epoch 5/100\n",
      "768/768 [==============================] - 0s - loss: 0.8394 - acc: 0.6185 - binary_accuracy: 0.6185     \n",
      "Epoch 6/100\n",
      "768/768 [==============================] - 0s - loss: 0.8147 - acc: 0.6081 - binary_accuracy: 0.6081     \n",
      "Epoch 7/100\n",
      "768/768 [==============================] - 0s - loss: 0.7444 - acc: 0.6107 - binary_accuracy: 0.6107     \n",
      "Epoch 8/100\n",
      "768/768 [==============================] - 0s - loss: 0.7188 - acc: 0.6341 - binary_accuracy: 0.6341     \n",
      "Epoch 9/100\n",
      "768/768 [==============================] - 0s - loss: 0.7079 - acc: 0.6393 - binary_accuracy: 0.6393     \n",
      "Epoch 10/100\n",
      "768/768 [==============================] - 0s - loss: 0.7098 - acc: 0.6445 - binary_accuracy: 0.6445     \n",
      "Epoch 11/100\n",
      "768/768 [==============================] - 0s - loss: 0.7306 - acc: 0.6263 - binary_accuracy: 0.6263     \n",
      "Epoch 12/100\n",
      "768/768 [==============================] - 0s - loss: 0.6818 - acc: 0.6471 - binary_accuracy: 0.6471     \n",
      "Epoch 13/100\n",
      "768/768 [==============================] - 0s - loss: 0.6581 - acc: 0.6719 - binary_accuracy: 0.6719     \n",
      "Epoch 14/100\n",
      "768/768 [==============================] - 0s - loss: 0.6509 - acc: 0.6628 - binary_accuracy: 0.6628     \n",
      "Epoch 15/100\n",
      "768/768 [==============================] - 0s - loss: 0.6734 - acc: 0.6497 - binary_accuracy: 0.6497     \n",
      "Epoch 16/100\n",
      "768/768 [==============================] - 0s - loss: 0.6924 - acc: 0.6445 - binary_accuracy: 0.6445     \n",
      "Epoch 17/100\n",
      "768/768 [==============================] - 0s - loss: 0.6360 - acc: 0.6628 - binary_accuracy: 0.6628     \n",
      "Epoch 18/100\n",
      "768/768 [==============================] - 0s - loss: 0.6240 - acc: 0.6849 - binary_accuracy: 0.6849     \n",
      "Epoch 19/100\n",
      "768/768 [==============================] - 0s - loss: 0.6251 - acc: 0.6771 - binary_accuracy: 0.6771     \n",
      "Epoch 20/100\n",
      "768/768 [==============================] - 0s - loss: 0.6248 - acc: 0.6797 - binary_accuracy: 0.6797     \n",
      "Epoch 21/100\n",
      "768/768 [==============================] - 0s - loss: 0.6237 - acc: 0.6719 - binary_accuracy: 0.6719     \n",
      "Epoch 22/100\n",
      "768/768 [==============================] - 0s - loss: 0.6264 - acc: 0.6784 - binary_accuracy: 0.6784     \n",
      "Epoch 23/100\n",
      "768/768 [==============================] - 0s - loss: 0.6141 - acc: 0.6914 - binary_accuracy: 0.6914     \n",
      "Epoch 24/100\n",
      "768/768 [==============================] - 0s - loss: 0.6123 - acc: 0.6732 - binary_accuracy: 0.6732     \n",
      "Epoch 25/100\n",
      "768/768 [==============================] - 0s - loss: 0.5961 - acc: 0.6875 - binary_accuracy: 0.6875     \n",
      "Epoch 26/100\n",
      "768/768 [==============================] - 0s - loss: 0.6040 - acc: 0.6927 - binary_accuracy: 0.6927     \n",
      "Epoch 27/100\n",
      "768/768 [==============================] - 0s - loss: 0.6016 - acc: 0.6862 - binary_accuracy: 0.6862     \n",
      "Epoch 28/100\n",
      "768/768 [==============================] - 0s - loss: 0.5949 - acc: 0.6901 - binary_accuracy: 0.6901     \n",
      "Epoch 29/100\n",
      "768/768 [==============================] - 0s - loss: 0.5975 - acc: 0.6836 - binary_accuracy: 0.6836     \n",
      "Epoch 30/100\n",
      "768/768 [==============================] - 0s - loss: 0.5972 - acc: 0.7070 - binary_accuracy: 0.7070     \n",
      "Epoch 31/100\n",
      "768/768 [==============================] - 0s - loss: 0.5823 - acc: 0.7083 - binary_accuracy: 0.7083     \n",
      "Epoch 32/100\n",
      "768/768 [==============================] - 0s - loss: 0.5858 - acc: 0.6979 - binary_accuracy: 0.6979     \n",
      "Epoch 33/100\n",
      "768/768 [==============================] - 0s - loss: 0.5917 - acc: 0.7148 - binary_accuracy: 0.7148     \n",
      "Epoch 34/100\n",
      "768/768 [==============================] - 0s - loss: 0.5775 - acc: 0.7057 - binary_accuracy: 0.7057     \n",
      "Epoch 35/100\n",
      "768/768 [==============================] - 0s - loss: 0.5720 - acc: 0.7031 - binary_accuracy: 0.7031     \n",
      "Epoch 36/100\n",
      "768/768 [==============================] - 0s - loss: 0.5762 - acc: 0.7122 - binary_accuracy: 0.7122     \n",
      "Epoch 37/100\n",
      "768/768 [==============================] - 0s - loss: 0.5878 - acc: 0.6992 - binary_accuracy: 0.6992     \n",
      "Epoch 38/100\n",
      "768/768 [==============================] - 0s - loss: 0.5848 - acc: 0.7005 - binary_accuracy: 0.7005     \n",
      "Epoch 39/100\n",
      "768/768 [==============================] - 0s - loss: 0.6005 - acc: 0.6953 - binary_accuracy: 0.6953     \n",
      "Epoch 40/100\n",
      "768/768 [==============================] - 0s - loss: 0.5918 - acc: 0.6888 - binary_accuracy: 0.6888     \n",
      "Epoch 41/100\n",
      "768/768 [==============================] - 0s - loss: 0.5835 - acc: 0.7109 - binary_accuracy: 0.7109     \n",
      "Epoch 42/100\n",
      "768/768 [==============================] - 0s - loss: 0.5794 - acc: 0.7135 - binary_accuracy: 0.7135     \n",
      "Epoch 43/100\n",
      "768/768 [==============================] - 0s - loss: 0.5561 - acc: 0.7240 - binary_accuracy: 0.7240     \n",
      "Epoch 44/100\n",
      "768/768 [==============================] - 0s - loss: 0.5550 - acc: 0.7201 - binary_accuracy: 0.7201     \n",
      "Epoch 45/100\n",
      "768/768 [==============================] - 0s - loss: 0.6234 - acc: 0.6680 - binary_accuracy: 0.6680     \n",
      "Epoch 46/100\n",
      "768/768 [==============================] - 0s - loss: 0.6148 - acc: 0.6875 - binary_accuracy: 0.6875     \n",
      "Epoch 47/100\n",
      "768/768 [==============================] - 0s - loss: 0.5664 - acc: 0.7083 - binary_accuracy: 0.7083     \n",
      "Epoch 48/100\n",
      "768/768 [==============================] - 0s - loss: 0.5923 - acc: 0.6927 - binary_accuracy: 0.6927     \n",
      "Epoch 49/100\n",
      "768/768 [==============================] - 0s - loss: 0.5605 - acc: 0.7201 - binary_accuracy: 0.7201     \n",
      "Epoch 50/100\n",
      "768/768 [==============================] - 0s - loss: 0.5778 - acc: 0.7057 - binary_accuracy: 0.7057     \n",
      "Epoch 51/100\n",
      "768/768 [==============================] - 0s - loss: 0.5487 - acc: 0.7370 - binary_accuracy: 0.7370     \n",
      "Epoch 52/100\n",
      "768/768 [==============================] - 0s - loss: 0.5493 - acc: 0.7409 - binary_accuracy: 0.7409     \n",
      "Epoch 53/100\n",
      "768/768 [==============================] - 0s - loss: 0.5527 - acc: 0.7201 - binary_accuracy: 0.7201     \n",
      "Epoch 54/100\n",
      "768/768 [==============================] - 0s - loss: 0.5446 - acc: 0.7279 - binary_accuracy: 0.7279     \n",
      "Epoch 55/100\n",
      "768/768 [==============================] - 0s - loss: 0.5659 - acc: 0.7109 - binary_accuracy: 0.7109     \n",
      "Epoch 56/100\n",
      "768/768 [==============================] - 0s - loss: 0.5619 - acc: 0.7109 - binary_accuracy: 0.7109     \n",
      "Epoch 57/100\n",
      "768/768 [==============================] - 0s - loss: 0.5844 - acc: 0.7005 - binary_accuracy: 0.7005     \n",
      "Epoch 58/100\n",
      "768/768 [==============================] - 0s - loss: 0.5469 - acc: 0.7240 - binary_accuracy: 0.7240     \n",
      "Epoch 59/100\n",
      "768/768 [==============================] - 0s - loss: 0.5862 - acc: 0.7005 - binary_accuracy: 0.7005     \n",
      "Epoch 60/100\n",
      "768/768 [==============================] - 0s - loss: 0.5523 - acc: 0.7083 - binary_accuracy: 0.7083     \n",
      "Epoch 61/100\n",
      "768/768 [==============================] - 0s - loss: 0.5475 - acc: 0.7161 - binary_accuracy: 0.7161     \n",
      "Epoch 62/100\n",
      "768/768 [==============================] - 0s - loss: 0.5767 - acc: 0.7096 - binary_accuracy: 0.7096     \n",
      "Epoch 63/100\n",
      "768/768 [==============================] - 0s - loss: 0.5732 - acc: 0.7057 - binary_accuracy: 0.7057     \n",
      "Epoch 64/100\n",
      "768/768 [==============================] - 0s - loss: 0.5733 - acc: 0.7096 - binary_accuracy: 0.7096     \n",
      "Epoch 65/100\n",
      "768/768 [==============================] - 0s - loss: 0.5528 - acc: 0.7188 - binary_accuracy: 0.7188     \n",
      "Epoch 66/100\n",
      "768/768 [==============================] - 0s - loss: 0.5556 - acc: 0.7174 - binary_accuracy: 0.7174     \n",
      "Epoch 67/100\n",
      "768/768 [==============================] - 0s - loss: 0.5382 - acc: 0.7331 - binary_accuracy: 0.7331     \n",
      "Epoch 68/100\n",
      "768/768 [==============================] - 0s - loss: 0.5539 - acc: 0.7096 - binary_accuracy: 0.7096     \n",
      "Epoch 69/100\n"
     ]
    },
    {
     "name": "stdout",
     "output_type": "stream",
     "text": [
      "768/768 [==============================] - 0s - loss: 0.5320 - acc: 0.7292 - binary_accuracy: 0.7292     \n",
      "Epoch 70/100\n",
      "768/768 [==============================] - 0s - loss: 0.5338 - acc: 0.7370 - binary_accuracy: 0.7370     \n",
      "Epoch 71/100\n",
      "768/768 [==============================] - 0s - loss: 0.5343 - acc: 0.7331 - binary_accuracy: 0.7331     \n",
      "Epoch 72/100\n",
      "768/768 [==============================] - 0s - loss: 0.5598 - acc: 0.7214 - binary_accuracy: 0.7214     \n",
      "Epoch 73/100\n",
      "768/768 [==============================] - 0s - loss: 0.5405 - acc: 0.7227 - binary_accuracy: 0.7227     \n",
      "Epoch 74/100\n",
      "768/768 [==============================] - 0s - loss: 0.5525 - acc: 0.7187 - binary_accuracy: 0.7187     \n",
      "Epoch 75/100\n",
      "768/768 [==============================] - 0s - loss: 0.5426 - acc: 0.7148 - binary_accuracy: 0.7148     \n",
      "Epoch 76/100\n",
      "768/768 [==============================] - 0s - loss: 0.5487 - acc: 0.7148 - binary_accuracy: 0.7148     \n",
      "Epoch 77/100\n",
      "768/768 [==============================] - 0s - loss: 0.5474 - acc: 0.7266 - binary_accuracy: 0.7266     \n",
      "Epoch 78/100\n",
      "768/768 [==============================] - 0s - loss: 0.5450 - acc: 0.7357 - binary_accuracy: 0.7357     \n",
      "Epoch 79/100\n",
      "768/768 [==============================] - 0s - loss: 0.5766 - acc: 0.7188 - binary_accuracy: 0.7188     \n",
      "Epoch 80/100\n",
      "768/768 [==============================] - 0s - loss: 0.5399 - acc: 0.7396 - binary_accuracy: 0.7396     \n",
      "Epoch 81/100\n",
      "768/768 [==============================] - 0s - loss: 0.5337 - acc: 0.7292 - binary_accuracy: 0.7292     \n",
      "Epoch 82/100\n",
      "768/768 [==============================] - 0s - loss: 0.5338 - acc: 0.7461 - binary_accuracy: 0.7461     \n",
      "Epoch 83/100\n",
      "768/768 [==============================] - 0s - loss: 0.5412 - acc: 0.7279 - binary_accuracy: 0.7279     \n",
      "Epoch 84/100\n",
      "768/768 [==============================] - 0s - loss: 0.5304 - acc: 0.7188 - binary_accuracy: 0.7188     \n",
      "Epoch 85/100\n",
      "768/768 [==============================] - 0s - loss: 0.5312 - acc: 0.7279 - binary_accuracy: 0.7279     \n",
      "Epoch 86/100\n",
      "768/768 [==============================] - 0s - loss: 0.5358 - acc: 0.7253 - binary_accuracy: 0.7253     \n",
      "Epoch 87/100\n",
      "768/768 [==============================] - 0s - loss: 0.5325 - acc: 0.7461 - binary_accuracy: 0.7461     \n",
      "Epoch 88/100\n",
      "768/768 [==============================] - 0s - loss: 0.5233 - acc: 0.7383 - binary_accuracy: 0.7383     \n",
      "Epoch 89/100\n",
      "768/768 [==============================] - 0s - loss: 0.5246 - acc: 0.7266 - binary_accuracy: 0.7266     \n",
      "Epoch 90/100\n",
      "768/768 [==============================] - 0s - loss: 0.5221 - acc: 0.7370 - binary_accuracy: 0.7370     \n",
      "Epoch 91/100\n",
      "768/768 [==============================] - 0s - loss: 0.5421 - acc: 0.7396 - binary_accuracy: 0.7396     \n",
      "Epoch 92/100\n",
      "768/768 [==============================] - 0s - loss: 0.5585 - acc: 0.7240 - binary_accuracy: 0.7240     \n",
      "Epoch 93/100\n",
      "768/768 [==============================] - 0s - loss: 0.5368 - acc: 0.7122 - binary_accuracy: 0.7122     \n",
      "Epoch 94/100\n",
      "768/768 [==============================] - 0s - loss: 0.5449 - acc: 0.7487 - binary_accuracy: 0.7487     \n",
      "Epoch 95/100\n",
      "768/768 [==============================] - 0s - loss: 0.5502 - acc: 0.7174 - binary_accuracy: 0.7174     \n",
      "Epoch 96/100\n",
      "768/768 [==============================] - 0s - loss: 0.5530 - acc: 0.7161 - binary_accuracy: 0.7161     \n",
      "Epoch 97/100\n",
      "768/768 [==============================] - 0s - loss: 0.5322 - acc: 0.7331 - binary_accuracy: 0.7331     \n",
      "Epoch 98/100\n",
      "768/768 [==============================] - 0s - loss: 0.5440 - acc: 0.7214 - binary_accuracy: 0.7214     \n",
      "Epoch 99/100\n",
      "768/768 [==============================] - 0s - loss: 0.5230 - acc: 0.7370 - binary_accuracy: 0.7370     \n",
      "Epoch 100/100\n",
      "768/768 [==============================] - 0s - loss: 0.5285 - acc: 0.7500 - binary_accuracy: 0.7500     \n"
     ]
    },
    {
     "data": {
      "text/plain": [
       "<keras.callbacks.History at 0x124ff0fd0>"
      ]
     },
     "execution_count": 12,
     "metadata": {},
     "output_type": "execute_result"
    }
   ],
   "source": [
    "network.fit(X,Y,epochs=100, batch_size=30) #"
   ]
  },
  {
   "cell_type": "markdown",
   "metadata": {},
   "source": [
    "Not the highest accuracy, but we are also working with very little data and we did not explore the art of tweaking the knobs on Keras, or validating our model with test data. If you liked this I would recommend checking out a few blogs of notable AI rockstars that are driving innovation across industries http://cs.stanford.edu/people/karpathy/, https://www.quora.com/Whats-the-most-effective-way-to-get-started-with-deep-learning"
   ]
  },
  {
   "cell_type": "markdown",
   "metadata": {},
   "source": [
    "I will make more of these that explore Keras in more depth!\n"
   ]
  },
  {
   "cell_type": "markdown",
   "metadata": {},
   "source": [
    "Credit for this code goes to Mark Conrad:\n",
    "https://www.linkedin.com/in/mark-conrad/ \n"
   ]
  },
  {
   "cell_type": "code",
   "execution_count": null,
   "metadata": {},
   "outputs": [],
   "source": []
  },
  {
   "cell_type": "code",
   "execution_count": null,
   "metadata": {},
   "outputs": [],
   "source": []
  },
  {
   "cell_type": "code",
   "execution_count": null,
   "metadata": {},
   "outputs": [],
   "source": []
  },
  {
   "cell_type": "code",
   "execution_count": null,
   "metadata": {},
   "outputs": [],
   "source": []
  }
 ],
 "metadata": {
  "kernelspec": {
   "display_name": "Python [conda root]",
   "language": "python",
   "name": "conda-root-py"
  },
  "language_info": {
   "codemirror_mode": {
    "name": "ipython",
    "version": 3
   },
   "file_extension": ".py",
   "mimetype": "text/x-python",
   "name": "python",
   "nbconvert_exporter": "python",
   "pygments_lexer": "ipython3",
   "version": "3.6.2"
  }
 },
 "nbformat": 4,
 "nbformat_minor": 2
}
